{
 "cells": [
  {
   "cell_type": "code",
   "execution_count": 19,
   "metadata": {},
   "outputs": [],
   "source": [
    "from articlehelper import ArticleHandler, RePostprocessor, map_paragraphs, map_category_bruk\n",
    "import numpy as np\n",
    "import pandas as pd\n",
    "from clfhelpers import *\n",
    "from sklearn.feature_extraction.text import TfidfVectorizer\n",
    "from sklearn.naive_bayes import MultinomialNB\n",
    "from sklearn.metrics import classification_report, mutual_info_score, adjusted_mutual_info_score\n",
    "from analyzers import PosAnalyzer\n",
    "from sklearn.metrics.pairwise import pairwise_distances\n",
    "from sklearn.metrics import mutual_info_score\n",
    "from sklearn.feature_selection import SelectPercentile\n",
    "from sklearn.feature_selection import mutual_info_classif\n",
    "\n",
    "MASK = 'data\\\\bruk'\n",
    "zip_fname = MASK + '.zip'\n",
    "train_fname = MASK + '_train.txt'\n",
    "test_fname = MASK + '_test.txt'"
   ]
  },
  {
   "cell_type": "code",
   "execution_count": 20,
   "metadata": {},
   "outputs": [
    {
     "name": "stdout",
     "output_type": "stream",
     "text": [
      "262 88\n"
     ]
    }
   ],
   "source": [
    "train = ArticleHandler.read_zip_list(zip_fname, train_fname, lang='uk')\n",
    "test = ArticleHandler.read_zip_list(zip_fname, test_fname, lang='uk')\n",
    "print(len(train), len(test))"
   ]
  },
  {
   "cell_type": "code",
   "execution_count": 21,
   "metadata": {},
   "outputs": [],
   "source": [
    "def add_category(articles, map_category):\n",
    "    for x in articles:\n",
    "        x['category'] = map_category(x)\n",
    "\n",
    "add_category(train, map_category_bruk)        \n",
    "add_category(test, map_category_bruk)"
   ]
  },
  {
   "cell_type": "code",
   "execution_count": 22,
   "metadata": {},
   "outputs": [
    {
     "data": {
      "text/html": [
       "<div>\n",
       "<style scoped>\n",
       "    .dataframe tbody tr th:only-of-type {\n",
       "        vertical-align: middle;\n",
       "    }\n",
       "\n",
       "    .dataframe tbody tr th {\n",
       "        vertical-align: top;\n",
       "    }\n",
       "\n",
       "    .dataframe thead th {\n",
       "        text-align: right;\n",
       "    }\n",
       "</style>\n",
       "<table border=\"1\" class=\"dataframe\">\n",
       "  <thead>\n",
       "    <tr style=\"text-align: right;\">\n",
       "      <th></th>\n",
       "      <th>doc</th>\n",
       "      <th>text</th>\n",
       "    </tr>\n",
       "    <tr>\n",
       "      <th>category</th>\n",
       "      <th></th>\n",
       "      <th></th>\n",
       "    </tr>\n",
       "  </thead>\n",
       "  <tbody>\n",
       "    <tr>\n",
       "      <th>fiction</th>\n",
       "      <td>1480</td>\n",
       "      <td>1480</td>\n",
       "    </tr>\n",
       "    <tr>\n",
       "      <th>press</th>\n",
       "      <td>1004</td>\n",
       "      <td>1004</td>\n",
       "    </tr>\n",
       "    <tr>\n",
       "      <th>prof_science</th>\n",
       "      <td>825</td>\n",
       "      <td>825</td>\n",
       "    </tr>\n",
       "  </tbody>\n",
       "</table>\n",
       "</div>"
      ],
      "text/plain": [
       "               doc  text\n",
       "category                \n",
       "fiction       1480  1480\n",
       "press         1004  1004\n",
       "prof_science   825   825"
      ]
     },
     "execution_count": 22,
     "metadata": {},
     "output_type": "execute_result"
    }
   ],
   "source": [
    "df_train = pd.DataFrame.from_dict(map_paragraphs(train, map_category_bruk))\n",
    "df_train.groupby(['category']).count()"
   ]
  },
  {
   "cell_type": "code",
   "execution_count": 23,
   "metadata": {},
   "outputs": [
    {
     "data": {
      "text/html": [
       "<div>\n",
       "<style scoped>\n",
       "    .dataframe tbody tr th:only-of-type {\n",
       "        vertical-align: middle;\n",
       "    }\n",
       "\n",
       "    .dataframe tbody tr th {\n",
       "        vertical-align: top;\n",
       "    }\n",
       "\n",
       "    .dataframe thead th {\n",
       "        text-align: right;\n",
       "    }\n",
       "</style>\n",
       "<table border=\"1\" class=\"dataframe\">\n",
       "  <thead>\n",
       "    <tr style=\"text-align: right;\">\n",
       "      <th></th>\n",
       "      <th>doc</th>\n",
       "      <th>text</th>\n",
       "    </tr>\n",
       "    <tr>\n",
       "      <th>category</th>\n",
       "      <th></th>\n",
       "      <th></th>\n",
       "    </tr>\n",
       "  </thead>\n",
       "  <tbody>\n",
       "    <tr>\n",
       "      <th>fiction</th>\n",
       "      <td>548</td>\n",
       "      <td>548</td>\n",
       "    </tr>\n",
       "    <tr>\n",
       "      <th>press</th>\n",
       "      <td>356</td>\n",
       "      <td>356</td>\n",
       "    </tr>\n",
       "    <tr>\n",
       "      <th>prof_science</th>\n",
       "      <td>299</td>\n",
       "      <td>299</td>\n",
       "    </tr>\n",
       "  </tbody>\n",
       "</table>\n",
       "</div>"
      ],
      "text/plain": [
       "              doc  text\n",
       "category               \n",
       "fiction       548   548\n",
       "press         356   356\n",
       "prof_science  299   299"
      ]
     },
     "execution_count": 23,
     "metadata": {},
     "output_type": "execute_result"
    }
   ],
   "source": [
    "df_test = pd.DataFrame.from_dict(map_paragraphs(test, map_category_bruk))\n",
    "df_test.groupby(['category']).count()"
   ]
  },
  {
   "cell_type": "code",
   "execution_count": 24,
   "metadata": {},
   "outputs": [],
   "source": [
    "X_train = df_train['text'].values\n",
    "X_test = df_test['text'].values\n",
    "y_train = df_train['category'].values\n",
    "y_test = df_test['category'].values"
   ]
  },
  {
   "cell_type": "code",
   "execution_count": 25,
   "metadata": {},
   "outputs": [
    {
     "name": "stdout",
     "output_type": "stream",
     "text": [
      "3309 1203 3309 1203\n"
     ]
    }
   ],
   "source": [
    "print(len(X_train), len(X_test), len(y_train), len(y_test))"
   ]
  },
  {
   "cell_type": "code",
   "execution_count": 26,
   "metadata": {},
   "outputs": [
    {
     "name": "stdout",
     "output_type": "stream",
     "text": [
      "Коли можливості передавання даних у Мережі вдосконалилися до вільного передавання звуку та зображення, почали розвиватися нові види веб-ресурсів. З’явилися прямі трансляції якихось подій, Інтернет-радіо, а також подкасти, почасти схожі на радіо- чи телевізійні передачі в записі.\n",
      "ДЛЯ НАШОГО ВУХА ДЕЩО НЕЗВИЧНО ЗВУЧИТЬ СКЛАД «ПОД», ТОЖ В УКРАЇНСЬКОМОВНОМУ ІНТЕРНЕТІ ПАРАЛЕЛЬНО ВЖИВАЄТЬСЯ Й ВАРІАНТ «ПІДКАСТИНГ», «ПІДКАСТ». ТАКЕ ПРИСТОСУВАННЯ ТЕРМІНІВ ДО ОРФОЕПІЧНИХ ТРАДИЦІЙ КРАЮ ВІДБУВАЄТЬСЯ ДОСИТЬ ЧАСТО, В РІЗНИХ МОВАХ.\n",
      "['<P>', '<P>', '<P>', 'PRCL', 'NOUN', 'NOUN', 'ADJF', 'PREP', 'NOUN', 'VERB', 'NOUN', 'NOUN', 'NOUN', 'NOUN', 'CONJ', 'NOUN', ',', 'VERB', 'VERB', 'ADJF', 'NOUN', 'NOUN', '-', 'NOUN', '.', 'VERB', 'ADJF', 'NOUN', 'NPRO', 'NOUN', ',', 'NOUN', '-', 'NOUN', ',', 'CONJ', 'CONJ', 'NOUN', ',', 'ADVB', 'ADJF', 'INTJ', 'NOUN', '-', 'PRCL', 'ADJF', 'NOUN', 'PREP', 'NOUN', '.', '</P>', '</P>', '</P>', '<P>', '<P>', '<P>', 'PREP', 'NPRO', 'NOUN', 'NPRO', 'ADVB', 'VERB', 'NOUN', 'UNDEF', 'UNDEF', 'UNDEF', ',', 'PRCL', 'PREP', 'ADJF', 'NOUN', 'ADVB', 'VERB', 'CONJ', 'NOUN', 'UNDEF', 'NOUN', 'UNDEF', ',', 'UNDEF', 'NOUN', 'UNDEF', '.', 'NPRO', 'NOUN', 'NOUN', 'NOUN', 'ADJF', 'NOUN', 'VERB', 'VERB', 'ADVB', 'ADVB', ',', 'PREP', 'ADJF', 'NOUN', '.', '</P>', '</P>', '</P>']\n"
     ]
    }
   ],
   "source": [
    "class ClfFactoryPOS:\n",
    "    def get_analyzer(self):\n",
    "        return PosAnalyzer.analyze\n",
    "    \n",
    "    def make_classifier(self):\n",
    "        return MultinomialNB(alpha=0.05)\n",
    "    \n",
    "    def make_vectorizer(self):\n",
    "        return TfidfVectorizer(tokenizer=self.get_analyzer(), ngram_range=(2, 4), min_df=10)\n",
    "\n",
    "factory = ClfFactoryPOS()\n",
    "s = X_train[0] +'\\n'+ X_train[1]\n",
    "print(s)\n",
    "print(factory.get_analyzer()(s))   "
   ]
  },
  {
   "cell_type": "code",
   "execution_count": 27,
   "metadata": {},
   "outputs": [],
   "source": [
    "tfidf = factory.make_vectorizer()\n",
    "clf = factory.make_classifier()\n",
    "\n",
    "vtrain = tfidf.fit_transform(X_train)\n",
    "vtest = tfidf.transform(X_test)"
   ]
  },
  {
   "cell_type": "code",
   "execution_count": 28,
   "metadata": {},
   "outputs": [
    {
     "name": "stdout",
     "output_type": "stream",
     "text": [
      "(3309, 5655) (1203, 5655)\n"
     ]
    }
   ],
   "source": [
    "print(vtrain.shape, vtest.shape)"
   ]
  },
  {
   "cell_type": "code",
   "execution_count": 29,
   "metadata": {},
   "outputs": [
    {
     "name": "stdout",
     "output_type": "stream",
     "text": [
      "              precision    recall  f1-score   support\n",
      "\n",
      "     fiction       0.78      0.90      0.83       548\n",
      "       press       0.59      0.56      0.57       356\n",
      "prof_science       0.58      0.44      0.50       299\n",
      "\n",
      " avg / total       0.67      0.69      0.67      1203\n",
      "\n",
      "0.25874857960721864\n"
     ]
    }
   ],
   "source": [
    "clf.fit(vtrain, y_train)\n",
    "y_predicted = clf.predict(vtest)\n",
    "print(classification_report(y_test, y_predicted, clf.classes_))\n",
    "print(adjusted_mutual_info_score(y_test, y_predicted))"
   ]
  },
  {
   "cell_type": "code",
   "execution_count": 30,
   "metadata": {},
   "outputs": [
    {
     "name": "stdout",
     "output_type": "stream",
     "text": [
      "fiction:\n",
      "<P> <P>: -5.12133663178971\n",
      "</P> </P>: -5.12133663178971\n",
      "NOUN ,: -5.1463419125888095\n",
      "ADJF NOUN: -5.355789608555155\n",
      "NOUN NOUN: -5.42313192715957\n",
      "NOUN VERB: -5.423992454438473\n",
      "NOUN .: -5.439538123052756\n",
      "VERB NOUN: -5.458603699190761\n",
      "PRCL VERB: -5.532531745042368\n",
      ", CONJ: -5.557232993696597\n",
      "VERB ,: -5.570527086409992\n",
      "PREP NOUN: -5.624389826203801\n",
      "NPRO VERB: -5.670429785594461\n",
      "NPRO NOUN: -5.705677128804396\n",
      ", PRCL: -5.7634295137888465\n",
      "VERB .: -5.801778093142145\n",
      "<P> <P> <P>: -5.813904951646375\n",
      "</P> </P> </P>: -5.813904951646375\n",
      "CONJ VERB: -5.929451209474956\n",
      ". </P> </P> </P>: -5.961250027249359\n",
      ". </P> </P>: -5.961250027249359\n",
      ". </P>: -5.961250027249359\n",
      "ADVB VERB: -6.000425363313578\n",
      "CONJ NOUN: -6.00221545886124\n",
      "VERB NPRO: -6.050152153173752\n",
      "CONJ NPRO: -6.055373185376239\n",
      "<P> UNDEF: -6.063641451849568\n",
      "<P> <P> UNDEF: -6.063641451849568\n",
      "<P> <P> <P> UNDEF: -6.063641451849568\n",
      "VERB PREP: -6.089329278225257\n",
      ", VERB: -6.105294910782492\n",
      "NOUN CONJ: -6.131677706536156\n",
      "NOUN , CONJ: -6.177551173317115\n",
      "INTJ NOUN: -6.182790182392925\n",
      "NOUN PREP: -6.188624441610642\n",
      ", NOUN: -6.193496304995446\n",
      "NOUN NPRO: -6.200607208551432\n",
      "PREP NPRO: -6.212944656574239\n",
      "ADJF NOUN ,: -6.248604810836011\n",
      "NOUN . </P> </P>: -6.255962212066203\n",
      "press:\n",
      "NOUN NOUN: -4.529308693610164\n",
      "ADJF NOUN: -4.709302307684625\n",
      "NOUN ,: -5.1307116908308865\n",
      "<P> <P>: -5.281531041208337\n",
      "</P> </P>: -5.281531041208337\n",
      "NOUN ADJF: -5.302603481049475\n",
      "NOUN NOUN NOUN: -5.386220895465507\n",
      "PREP NOUN: -5.395730527803572\n",
      "NOUN UNDEF: -5.415130978114055\n",
      "NOUN .: -5.437002268705832\n",
      "NOUN VERB: -5.487308589874797\n",
      "VERB NOUN: -5.48750411602631\n",
      "NOUN ADJF NOUN: -5.561922484526054\n",
      "NOUN PREP: -5.63687950077418\n",
      "NPRO NOUN: -5.786280141321821\n",
      "ADJF NOUN NOUN: -5.806132353182912\n",
      "CONJ NOUN: -5.832628160822706\n",
      ", CONJ: -5.907340382330037\n",
      "UNDEF NOUN: -5.921066641473523\n",
      "NOUN PREP NOUN: -5.923241041846275\n",
      "NOUN CONJ: -5.938266993536595\n",
      ", NOUN: -5.946740955001085\n",
      "<P> <P> <P>: -5.973720435985358\n",
      "</P> </P> </P>: -5.973720435985358\n",
      "NOUN , NOUN: -6.068972452895683\n",
      "VERB ADJF: -6.080715938236709\n",
      "NOUN NOUN ,: -6.0908396592171545\n",
      ". </P> </P> </P>: -6.097581162367421\n",
      ". </P> </P>: -6.097581162367421\n",
      ". </P>: -6.097581162367421\n",
      "PREP ADJF: -6.10362285308539\n",
      "NUMBER NOUN: -6.1088762406104395\n",
      "ADJF NOUN ,: -6.131047241592524\n",
      "PRCL VERB: -6.140976751659389\n",
      "NPRO VERB: -6.154725205098072\n",
      "ADJF ADJF: -6.159401084274999\n",
      "NOUN . </P> </P>: -6.1894108855304255\n",
      "NOUN . </P>: -6.1894108855304255\n",
      "PREP NOUN NOUN: -6.197856382642058\n",
      "NOUN NOUN .: -6.201638500784114\n",
      "prof_science:\n",
      "ADJF NOUN: -4.602410770272042\n",
      "NOUN NOUN: -4.770609168862607\n",
      "NOUN ,: -4.978393557788619\n",
      "<P> <P>: -5.187175252515914\n",
      "</P> </P>: -5.187175252515914\n",
      "NOUN ADJF: -5.350013160610947\n",
      "NOUN .: -5.368138560305794\n",
      "PREP NOUN: -5.485640075470334\n",
      "VERB NOUN: -5.514571337162409\n",
      "NOUN ADJF NOUN: -5.565074499635349\n",
      "NOUN VERB: -5.596912329586202\n",
      ", NOUN: -5.676274380886387\n",
      "NOUN CONJ: -5.717240638662329\n",
      "NOUN UNDEF: -5.730117791384597\n",
      "NOUN , NOUN: -5.73082621110577\n",
      "NOUN PREP: -5.74868722880421\n",
      "NPRO NOUN: -5.780152837752659\n",
      "ADJF NOUN ,: -5.819179420160924\n",
      ", CONJ: -5.842823711305076\n",
      "<P> <P> <P>: -5.879226485285678\n",
      "</P> </P> </P>: -5.879226485285678\n",
      "CONJ NOUN: -5.8840778864020535\n",
      "ADJF NOUN .: -5.974284354376325\n",
      "VERB ADJF: -5.978381236929067\n",
      "ADJF NOUN NOUN: -5.9872086121041495\n",
      "NOUN NOUN NOUN: -5.991821322036568\n",
      "NOUN NOUN ,: -6.0147332853024125\n",
      "NOUN . </P> </P>: -6.06451641982081\n",
      "NOUN . </P>: -6.06451641982081\n",
      "NOUN CONJ NOUN: -6.079193763912349\n",
      ". </P> </P> </P>: -6.081026892310366\n",
      ". </P> </P>: -6.081026892310366\n",
      ". </P>: -6.081026892310366\n",
      "CONJ ADJF: -6.096740972796341\n",
      "PREP ADJF: -6.108253026721721\n",
      "<P> NOUN: -6.114771210807941\n",
      "<P> <P> NOUN: -6.114771210807941\n",
      "<P> <P> <P> NOUN: -6.114771210807941\n",
      "NOUN PREP NOUN: -6.11638685408011\n",
      "NOUN </P> </P> </P>: -6.135258491020098\n"
     ]
    }
   ],
   "source": [
    "show_all_top_features(tfidf, clf, n=40)"
   ]
  },
  {
   "cell_type": "code",
   "execution_count": 31,
   "metadata": {},
   "outputs": [],
   "source": [
    "percentile = 70\n",
    "sel_perc = SelectPercentile(mutual_info_classif, percentile)\n",
    "vtrain_perc = sel_perc.fit_transform(vtrain, y_train)\n",
    "vtest_perc = sel_perc.transform(vtest)"
   ]
  },
  {
   "cell_type": "code",
   "execution_count": 32,
   "metadata": {},
   "outputs": [
    {
     "name": "stdout",
     "output_type": "stream",
     "text": [
      "              precision    recall  f1-score   support\n",
      "\n",
      "     fiction       0.78      0.90      0.84       548\n",
      "       press       0.60      0.58      0.59       356\n",
      "prof_science       0.59      0.44      0.51       299\n",
      "\n",
      " avg / total       0.68      0.69      0.68      1203\n",
      "\n",
      "0.26753224831026684\n"
     ]
    },
    {
     "data": {
      "image/png": "[encoded data removed]",
      "text/plain": [
       "<matplotlib.figure.Figure at 0x26443788cf8>"
      ]
     },
     "metadata": {},
     "output_type": "display_data"
    }
   ],
   "source": [
    "clf.fit(vtrain_perc, y_train)\n",
    "y_predicted = clf.predict(vtest_perc)\n",
    "print(classification_report(y_test, y_predicted, clf.classes_))\n",
    "print(adjusted_mutual_info_score(y_test, y_predicted))\n",
    "plot_clf_classes_distances(clf)"
   ]
  },
  {
   "cell_type": "code",
   "execution_count": 33,
   "metadata": {},
   "outputs": [
    {
     "name": "stdout",
     "output_type": "stream",
     "text": [
      "fiction:\n",
      ". ADVB VERB NOUN: -5.02423390023325\n",
      ". ADVB PREP NOUN: -5.02423390023325\n",
      "ADVB ADVB VERB ,: -5.04923918103235\n",
      "</P> </P>: -5.258686876998696\n",
      "CONJ NOUN NPRO PRCL: -5.326029195603111\n",
      "INTJ CONJ: -5.326889722882013\n",
      "ADVB PRCL PRCL: -5.342435391496297\n",
      "NPRO ADVB VERB NOUN: -5.361500967634302\n",
      "NOUN NOUN -: -5.4354290134859085\n",
      ", ADJF PREP NOUN: -5.4601302621401375\n",
      "NOUN VERB CONJ PREP: -5.473424354853533\n",
      "NOUN NOUN VERB ADVB: -5.527287094647342\n",
      "NOUN . PRCL ,: -5.5733270540380015\n",
      "NOUN , NOUN ADJF: -5.608574397247937\n",
      ", NOUN . NOUN: -5.666326782232387\n",
      "NOUN VERB UNDEF: -5.704675361585686\n",
      ". CONJ ,: -5.716802220089916\n",
      ". ADVB VERB: -5.716802220089916\n",
      "ADJF PREP NOUN ,: -5.832348477918496\n",
      ", PRCL PRCL ADVB: -5.8641472956928995\n",
      ", PRCL PRCL: -5.8641472956928995\n",
      ", PRCL NPRO VERB: -5.8641472956928995\n",
      "ADJF . </P> </P>: -5.903322631757119\n",
      "ADJF NOUN , CONJ: -5.905112727304781\n",
      "NPRO NOUN CONJ VERB: -5.953049421617292\n",
      "ADJF NOUN NOUN (: -5.95827045381978\n",
      ". PRCL: -5.966538720293109\n",
      ". NOUN ,: -5.966538720293109\n",
      ". CONJ CONJ VERB: -5.966538720293109\n",
      "NPRO NPRO NOUN NOUN: -5.992226546668798\n",
      ", NPRO PRCL PRCL: -6.008192179226032\n",
      "CONJ INTJ NOUN NOUN: -6.034574974979696\n",
      "ADVB INTJ: -6.080448441760655\n",
      "ADVB , PRCL ADJF: -6.085687450836466\n",
      "CONJ VERB NOUN PREP: -6.091521710054183\n",
      ", CONJ NOUN VERB: -6.096393573438987\n",
      "CONJ PRCL VERB CONJ: -6.1035044769949724\n",
      "NOUN PRCL ,: -6.115841925017779\n",
      "<P> <P> -: -6.151502079279552\n",
      "ADVB PRCL VERB ,: -6.158859480509744\n",
      "press:\n",
      "CONJ NOUN NPRO PRCL: -4.45617307414387\n",
      "</P> </P>: -4.6361666882183314\n",
      "ADVB ADVB VERB ,: -5.0575760713645925\n",
      ". ADVB VERB NOUN: -5.208395421742043\n",
      ". ADVB PREP NOUN: -5.208395421742043\n",
      "CONJ ADJF ADVB: -5.229467861583181\n",
      "CONJ NPRO PRCL: -5.313085275999213\n",
      "NOUN NOUN VERB ADVB: -5.322594908337278\n",
      "GRND ADJF: -5.341995358647761\n",
      "ADVB PRCL PRCL: -5.363866649239538\n",
      "INTJ CONJ: -5.414172970408503\n",
      "NPRO ADVB VERB NOUN: -5.414368496560016\n",
      "CONJ ADJF VERB NOUN: -5.48878686505976\n",
      "CONJ VERB NOUN PREP: -5.563743881307886\n",
      "NOUN , NOUN ADJF: -5.713144521855527\n",
      "<P> <P> NOUN PREP: -5.732996733716618\n",
      "ADJF NOUN , CONJ: -5.759492541356412\n",
      ", ADJF PREP NOUN: -5.8342047628637435\n",
      "NOUN UNDEF CONJ VERB: -5.847931022007229\n",
      "CONJ VERB NPRO NPRO: -5.850105422379981\n",
      "CONJ INTJ NOUN NOUN: -5.865131374070301\n",
      ", CONJ NOUN VERB: -5.873605335534791\n",
      ". CONJ ,: -5.900584816519064\n",
      ". ADVB VERB: -5.900584816519064\n",
      "ADVB NOUN ADJF: -5.995836833429389\n",
      "NPRO , PRCL ADVB: -6.007580318770415\n",
      "CONJ NOUN PRED: -6.0177040397508605\n",
      ", PRCL PRCL ADVB: -6.024445542901127\n",
      ", PRCL PRCL: -6.024445542901127\n",
      ", PRCL NPRO VERB: -6.024445542901127\n",
      "NOUN NOUN NUMR: -6.030487233619096\n",
      "NOUN ?!: -6.035740621144146\n",
      "<P> <P> -: -6.05791162212623\n",
      "NOUN NOUN -: -6.067841132193095\n",
      "NOUN . PRCL ,: -6.081589585631778\n",
      ". VERB NOUN NOUN: -6.086265464808705\n",
      "ADVB PRCL VERB ,: -6.1162752660641315\n",
      "ADVB PRCL VERB: -6.1162752660641315\n",
      "NOUN NPRO NOUN PRCL: -6.124720763175764\n",
      "CONJ NOUN VERB ADVB: -6.12850288131782\n",
      "prof_science:\n",
      "</P> </P>: -4.525953805332233\n",
      "CONJ NOUN NPRO PRCL: -4.6941522039227985\n",
      "ADVB ADVB VERB ,: -4.901936592848811\n",
      ". ADVB VERB NOUN: -5.1107182875761055\n",
      ". ADVB PREP NOUN: -5.1107182875761055\n",
      "CONJ ADJF ADVB: -5.273556195671139\n",
      "ADVB PRCL PRCL: -5.2916815953659855\n",
      "NOUN NOUN VERB ADVB: -5.409183110530526\n",
      "NPRO ADVB VERB NOUN: -5.438114372222601\n",
      "CONJ ADJF VERB NOUN: -5.488617534695541\n",
      "INTJ CONJ: -5.520455364646394\n",
      ", CONJ NOUN VERB: -5.599817415946578\n",
      "CONJ INTJ NOUN NOUN: -5.64078367372252\n",
      "GRND ADJF: -5.6536608264447885\n",
      "ADVB NOUN ADJF: -5.654369246165961\n",
      "CONJ VERB NOUN PREP: -5.672230263864401\n",
      "NOUN , NOUN ADJF: -5.703695872812851\n",
      "<P> <P> -: -5.742722455221116\n",
      ", ADJF PREP NOUN: -5.766366746365268\n",
      ". CONJ ,: -5.80276952034587\n",
      ". ADVB VERB: -5.80276952034587\n",
      "ADJF NOUN , CONJ: -5.807620921462245\n",
      "<P> <P> <P> PRCL: -5.897827389436516\n",
      "NPRO , PRCL ADVB: -5.901924271989259\n",
      "<P> <P> NOUN PREP: -5.910751647164341\n",
      "CONJ NPRO PRCL: -5.91536435709676\n",
      "CONJ NOUN PRED: -5.938276320362604\n",
      "ADVB PRCL VERB ,: -5.988059454881002\n",
      "ADVB PRCL VERB: -5.988059454881002\n",
      "CONJ NOUN , ADVB: -6.00273679897254\n",
      ", PRCL PRCL ADVB: -6.004569927370557\n",
      ", PRCL PRCL: -6.004569927370557\n",
      ", PRCL NPRO VERB: -6.004569927370557\n",
      "ADJF ADJF NOUN .: -6.0202840078565325\n",
      "NOUN NOUN NUMR: -6.031796061781913\n",
      ". NOUN VERB ,: -6.038314245868133\n",
      ". CONJ PRCL PRCL: -6.038314245868133\n",
      ". CONJ ADVB VERB: -6.038314245868133\n",
      "CONJ VERB NPRO NPRO: -6.039929889140302\n",
      "CONJ ADJF .: -6.058801526080289\n"
     ]
    }
   ],
   "source": [
    "show_all_top_features(tfidf, clf, n=40)"
   ]
  },
  {
   "cell_type": "code",
   "execution_count": 34,
   "metadata": {},
   "outputs": [
    {
     "data": {
      "text/html": [
       "<div>\n",
       "<style scoped>\n",
       "    .dataframe tbody tr th:only-of-type {\n",
       "        vertical-align: middle;\n",
       "    }\n",
       "\n",
       "    .dataframe tbody tr th {\n",
       "        vertical-align: top;\n",
       "    }\n",
       "\n",
       "    .dataframe thead th {\n",
       "        text-align: right;\n",
       "    }\n",
       "</style>\n",
       "<table border=\"1\" class=\"dataframe\">\n",
       "  <thead>\n",
       "    <tr style=\"text-align: right;\">\n",
       "      <th></th>\n",
       "      <th>alt_orth</th>\n",
       "      <th>author_name</th>\n",
       "      <th>author_name_1</th>\n",
       "      <th>author_name_2</th>\n",
       "      <th>author_surname</th>\n",
       "      <th>author_surname_1</th>\n",
       "      <th>author_surname_2</th>\n",
       "      <th>body</th>\n",
       "      <th>comments</th>\n",
       "      <th>errors</th>\n",
       "      <th>...</th>\n",
       "      <th>length</th>\n",
       "      <th>pages</th>\n",
       "      <th>publ_in</th>\n",
       "      <th>publ_part</th>\n",
       "      <th>publ_place</th>\n",
       "      <th>publisher</th>\n",
       "      <th>text</th>\n",
       "      <th>title</th>\n",
       "      <th>url</th>\n",
       "      <th>year</th>\n",
       "    </tr>\n",
       "    <tr>\n",
       "      <th>category</th>\n",
       "      <th></th>\n",
       "      <th></th>\n",
       "      <th></th>\n",
       "      <th></th>\n",
       "      <th></th>\n",
       "      <th></th>\n",
       "      <th></th>\n",
       "      <th></th>\n",
       "      <th></th>\n",
       "      <th></th>\n",
       "      <th></th>\n",
       "      <th></th>\n",
       "      <th></th>\n",
       "      <th></th>\n",
       "      <th></th>\n",
       "      <th></th>\n",
       "      <th></th>\n",
       "      <th></th>\n",
       "      <th></th>\n",
       "      <th></th>\n",
       "      <th></th>\n",
       "    </tr>\n",
       "  </thead>\n",
       "  <tbody>\n",
       "    <tr>\n",
       "      <th>fiction</th>\n",
       "      <td>25</td>\n",
       "      <td>24</td>\n",
       "      <td>1</td>\n",
       "      <td>1</td>\n",
       "      <td>24</td>\n",
       "      <td>1</td>\n",
       "      <td>1</td>\n",
       "      <td>25</td>\n",
       "      <td>2</td>\n",
       "      <td>17</td>\n",
       "      <td>...</td>\n",
       "      <td>25</td>\n",
       "      <td>24</td>\n",
       "      <td>5</td>\n",
       "      <td>1</td>\n",
       "      <td>24</td>\n",
       "      <td>24</td>\n",
       "      <td>25</td>\n",
       "      <td>25</td>\n",
       "      <td>0</td>\n",
       "      <td>25</td>\n",
       "    </tr>\n",
       "    <tr>\n",
       "      <th>press</th>\n",
       "      <td>44</td>\n",
       "      <td>32</td>\n",
       "      <td>1</td>\n",
       "      <td>1</td>\n",
       "      <td>32</td>\n",
       "      <td>1</td>\n",
       "      <td>1</td>\n",
       "      <td>44</td>\n",
       "      <td>2</td>\n",
       "      <td>25</td>\n",
       "      <td>...</td>\n",
       "      <td>44</td>\n",
       "      <td>3</td>\n",
       "      <td>43</td>\n",
       "      <td>4</td>\n",
       "      <td>30</td>\n",
       "      <td>0</td>\n",
       "      <td>44</td>\n",
       "      <td>44</td>\n",
       "      <td>41</td>\n",
       "      <td>44</td>\n",
       "    </tr>\n",
       "    <tr>\n",
       "      <th>prof_science</th>\n",
       "      <td>19</td>\n",
       "      <td>12</td>\n",
       "      <td>4</td>\n",
       "      <td>4</td>\n",
       "      <td>12</td>\n",
       "      <td>4</td>\n",
       "      <td>4</td>\n",
       "      <td>19</td>\n",
       "      <td>0</td>\n",
       "      <td>15</td>\n",
       "      <td>...</td>\n",
       "      <td>19</td>\n",
       "      <td>15</td>\n",
       "      <td>10</td>\n",
       "      <td>8</td>\n",
       "      <td>17</td>\n",
       "      <td>13</td>\n",
       "      <td>19</td>\n",
       "      <td>19</td>\n",
       "      <td>4</td>\n",
       "      <td>19</td>\n",
       "    </tr>\n",
       "  </tbody>\n",
       "</table>\n",
       "<p>3 rows × 23 columns</p>\n",
       "</div>"
      ],
      "text/plain": [
       "              alt_orth  author_name  author_name_1  author_name_2  \\\n",
       "category                                                            \n",
       "fiction             25           24              1              1   \n",
       "press               44           32              1              1   \n",
       "prof_science        19           12              4              4   \n",
       "\n",
       "              author_surname  author_surname_1  author_surname_2  body  \\\n",
       "category                                                                 \n",
       "fiction                   24                 1                 1    25   \n",
       "press                     32                 1                 1    44   \n",
       "prof_science              12                 4                 4    19   \n",
       "\n",
       "              comments  errors  ...   length  pages  publ_in  publ_part  \\\n",
       "category                        ...                                       \n",
       "fiction              2      17  ...       25     24        5          1   \n",
       "press                2      25  ...       44      3       43          4   \n",
       "prof_science         0      15  ...       19     15       10          8   \n",
       "\n",
       "              publ_place  publisher  text  title  url  year  \n",
       "category                                                     \n",
       "fiction               24         24    25     25    0    25  \n",
       "press                 30          0    44     44   41    44  \n",
       "prof_science          17         13    19     19    4    19  \n",
       "\n",
       "[3 rows x 23 columns]"
      ]
     },
     "execution_count": 34,
     "metadata": {},
     "output_type": "execute_result"
    }
   ],
   "source": [
    "df_test = pd.DataFrame.from_dict(test)\n",
    "df_test.groupby(['category']).count()"
   ]
  },
  {
   "cell_type": "code",
   "execution_count": 35,
   "metadata": {},
   "outputs": [
    {
     "name": "stdout",
     "output_type": "stream",
     "text": [
      "              precision    recall  f1-score   support\n",
      "\n",
      "     fiction       0.71      1.00      0.83        25\n",
      "       press       0.84      0.70      0.77        44\n",
      "prof_science       0.69      0.58      0.63        19\n",
      "\n",
      " avg / total       0.77      0.76      0.76        88\n",
      "\n",
      "0.41010259982438896\n"
     ]
    }
   ],
   "source": [
    "X_test = df_test['text'].values\n",
    "y_test = df_test['category']\n",
    "vtest = tfidf.transform(X_test)\n",
    "vtest_perc = sel_perc.transform(vtest)\n",
    "y_predicted = clf.predict(vtest_perc.toarray())\n",
    "print(classification_report(y_test, y_predicted, clf.classes_))\n",
    "print(adjusted_mutual_info_score(y_test, y_predicted))"
   ]
  },
  {
   "cell_type": "code",
   "execution_count": 37,
   "metadata": {},
   "outputs": [
    {
     "data": {
      "text/plain": [
       "['featsel_bruk_MNB_POS.pkl']"
      ]
     },
     "execution_count": 37,
     "metadata": {},
     "output_type": "execute_result"
    }
   ],
   "source": [
    "from sklearn.externals import joblib\n",
    "joblib.dump(clf, 'clf_bruk_MNB_POS.pkl') \n",
    "joblib.dump(tfidf, 'tfidf_bruk_MNB_POS.pkl')\n",
    "joblib.dump(sel_perc, 'featsel_bruk_MNB_POS.pkl')"
   ]
  },
  {
   "cell_type": "code",
   "execution_count": null,
   "metadata": {},
   "outputs": [],
   "source": []
  }
 ],
 "metadata": {
  "kernelspec": {
   "display_name": "Python 3",
   "language": "python",
   "name": "python3"
  },
  "language_info": {
   "codemirror_mode": {
    "name": "ipython",
    "version": 3
   },
   "file_extension": ".py",
   "mimetype": "text/x-python",
   "name": "python",
   "nbconvert_exporter": "python",
   "pygments_lexer": "ipython3",
   "version": "3.6.4"
  }
 },
 "nbformat": 4,
 "nbformat_minor": 2
}
