{
 "cells": [
  {
   "cell_type": "code",
   "execution_count": null,
   "metadata": {},
   "outputs": [],
   "source": []
  },
  {
   "cell_type": "code",
   "execution_count": 9,
   "metadata": {},
   "outputs": [],
   "source": [
    "from articlehelper import ArticleHandler, RePostprocessor, map_paragraphs, map_category_ukrpravda\n",
    "import numpy as np\n",
    "import pandas as pd\n",
    "from clfhelpers import *\n",
    "from sklearn.feature_extraction.text import TfidfVectorizer\n",
    "from sklearn.naive_bayes import MultinomialNB\n",
    "from sklearn.metrics import classification_report, mutual_info_score, adjusted_mutual_info_score, accuracy_score\n",
    "from analyzers import PosAnalyzer, PosFreqWordsAnalyzer, Morphology, PosLexAnalyzer\n",
    "from sklearn.metrics.pairwise import pairwise_distances\n",
    "from sklearn.metrics import mutual_info_score\n",
    "from sklearn.feature_selection import SelectPercentile\n",
    "from sklearn.feature_selection import mutual_info_classif\n",
    "from sklearn.externals import joblib\n",
    "\n",
    "\n",
    "class ClfFactoryPosLex:\n",
    "    def __init__(self, analyzer = None, pwf_analyzer=PosFreqWordsAnalyzer(Morphology().getAnalyzer(), lemmatize_freq = True), \n",
    "                 lexngrams = None, ngramsize = 2):\n",
    "        if analyzer is None:\n",
    "            self.analyzer = PosLexAnalyzer(pwf_analyzer, lexngrams, ngramsize)\n",
    "        else:\n",
    "            self.analyzer = analyzer\n",
    "    \n",
    "    def get_analyzer(self):\n",
    "        return self.analyzer.analyze\n",
    "    \n",
    "    def make_classifier(self):\n",
    "        return MultinomialNB(alpha=0.05)\n",
    "    \n",
    "    def make_vectorizer(self):\n",
    "        return TfidfVectorizer(tokenizer=self.get_analyzer(), ngram_range=(2, 4), min_df=10)\n",
    "    \n",
    "class GenreClassifier():\n",
    "    def __init__(self, dataset='news'):\n",
    "        '''\n",
    "        dataset = {'news', 'bruk'}\n",
    "        '''\n",
    "        self.tfidf = None\n",
    "        self.clf = None\n",
    "        self.sel_perc = None       \n",
    "        if dataset == 'news':\n",
    "            self.load('saves\\\\clf_news_MNB_poslex.pkl', 'saves\\\\tfidf_news_MNB_poslex.pkl', \n",
    "                      'saves\\\\featsel_news_MNB_poslex.pkl')\n",
    "        elif dataset == 'bruk':\n",
    "            self.load('saves\\\\clf_bruk_MNB_poslex.pkl','saves\\\\tfidf_bruk_MNB_poslex.pkl') \n",
    "    \n",
    "    def init(self):\n",
    "        freq_words = pd.read_csv('data\\\\freq_words.txt', sep=' ', header=None, names=['word', 'freq'])['word'].values\n",
    "        lexngrams = np.loadtxt('data\\\\news_bigrams.txt', dtype=object, encoding='utf-8')\n",
    "        print('Frequent words count:', len(freq_words))\n",
    "        print('Lexical ngrams count:', len(lexngrams))\n",
    "        self.factory = ClfFactoryPosLex(None, PosFreqWordsAnalyzer(Morphology().getAnalyzer(), list(freq_words), lemmatize_freq=True), lexngrams)\n",
    "        \n",
    "    def train(self, X, y, percentile=0):\n",
    "        self.tfidf = self.factory.make_vectorizer()\n",
    "        self.clf = self.factory.make_classifier()\n",
    "        self.sel_perc = SelectPercentile(mutual_info_classif, percentile) if percentile >= 1 else None\n",
    "        vtrain = self.tfidf.fit_transform(X)        \n",
    "        if self.sel_perc is not None:\n",
    "            vtrain = self.sel_perc.fit_transform(vtrain, y)\n",
    "        self.clf.fit(vtrain, y)\n",
    "        \n",
    "    def save(self, clf_name, tfidf_name, sel_perc_name=None):\n",
    "        joblib.dump(self.clf, clf_name) \n",
    "        joblib.dump(self.tfidf, tfidf_name)\n",
    "        if not self.sel_perc is None:\n",
    "            joblib.dump(self.sel_perc, sel_perc_name)\n",
    "            \n",
    "    def load(self, clf_name, tfidf_name, sel_perc_name=None):\n",
    "        self.clf = joblib.load(clf_name) \n",
    "        self.tfidf = joblib.load(tfidf_name)\n",
    "        if not sel_perc_name is None:\n",
    "            self.sel_perc = joblib.load(sel_perc_name)        \n",
    "        \n",
    "    \n",
    "    def predict(self, raw_strings, predict_proba = False):\n",
    "        vtest = self.tfidf.transform(raw_strings)\n",
    "        if self.sel_perc is not None:\n",
    "            vtest = self.sel_perc.transform(vtest)\n",
    "        predictor = self.clf.predict_proba if predict_proba else self.clf.predict\n",
    "        y_predicted = predictor(vtest.toarray())\n",
    "        return y_predicted\n",
    "    \n"
   ]
  },
  {
   "cell_type": "code",
   "execution_count": null,
   "metadata": {},
   "outputs": [],
   "source": [
    "clf_news = GenreClassifier('news')\n",
    "clf_bruk = GenreClassifier('bruk')"
   ]
  },
  {
   "cell_type": "code",
   "execution_count": 26,
   "metadata": {},
   "outputs": [
    {
     "name": "stdout",
     "output_type": "stream",
     "text": [
      "НАТО підійшло до наших кордонів, відкриває Америку президент Росії. Ніби це трапилося вчора або в ніч на сьогодні. Ніби сусідньої з Калінінградською областю Польщі не прийняли туди ще зо два десятиріччя тому. Ніби \"республіки радянської Прибалтики\" Литва, Латвія та Естонія не стали повноправними чле...\n",
      "['blog']\n",
      "['fiction']\n"
     ]
    }
   ],
   "source": [
    "# https://gazeta.ua/blog/50347/prorochi-koshmari-putina-ukrayina-potribna-nato\n",
    "s = '''НАТО підійшло до наших кордонів, відкриває Америку президент Росії. Ніби це трапилося вчора або в ніч на сьогодні. Ніби сусідньої з Калінінградською областю Польщі не прийняли туди ще зо два десятиріччя тому. Ніби \"республіки радянської Прибалтики\" Литва, Латвія та Естонія не стали повноправними членами \"агресивного блоку\" ще в березні 2004-го.\n",
    "Куди він тоді дивився, президент Путін? Гаразд, коли приймали Польщу (а з нею не менш братні Чехію та Угорщину), президентом він ще не був. Його ще тільки вирощували в якійсь політтехнологічній колбі Кремля. Настоювали у спеціальних фізрозчинах під пильним наглядом прикремлівських франкенштайнів і готували світові несподіванку. Однак 2004-го він уже ого як кермував! І здається, на вступ до НАТО рідних \"прибалтів\" (а з ними ще чотирьох посткомуністичних країн із православною Болгарією включно) він тоді навіть не пискнув. Уявляєте – він, Путін, такий могутній і, як кажуть на Полтавщині, ловкий?'''\n",
    "print(s[:300]+\"...\")\n",
    "print(clf_news.predict([s]))\n",
    "print(clf_bruk.predict([s]))"
   ]
  },
  {
   "cell_type": "code",
   "execution_count": 27,
   "metadata": {},
   "outputs": [
    {
     "name": "stdout",
     "output_type": "stream",
     "text": [
      "У Каліфорнії автомобіль Tesla врізався у припарковане поліцейське авто.\n",
      "На момент зіткнення електрокар рухався у режимі автопілота, повідомляє ВВС.\n",
      "Водій зазнав незначних ушкоджень....\n",
      "['news']\n",
      "['press']\n"
     ]
    }
   ],
   "source": [
    "# https://gazeta.ua/articles/avto/_podvijnij-nefart-tesla-na-avtopiloti-vrizavsya-v-policejske-avto/840337\n",
    "s = '''У Каліфорнії автомобіль Tesla врізався у припарковане поліцейське авто.\n",
    "На момент зіткнення електрокар рухався у режимі автопілота, повідомляє ВВС.\n",
    "Водій зазнав незначних ушкоджень.'''\n",
    "print(s[:300]+\"...\")\n",
    "print(clf_news.predict([s]))\n",
    "print(clf_bruk.predict([s]))"
   ]
  },
  {
   "cell_type": "code",
   "execution_count": 28,
   "metadata": {},
   "outputs": [
    {
     "name": "stdout",
     "output_type": "stream",
     "text": [
      "Співак року за версією премії \"Золота жар-птиця\" Олег Винник, прикрасив обкладинку журналу \"Телегід\"\n",
      "Артист завершив роботу над двома новими альбомами, озвучив мультиплікаційного героя, презентував кліп і відправився у всеукраїнський гастрольний тур. Про свій сценічний імідж , різницю між творчістю ...\n",
      "['articles']\n",
      "['prof_science']\n"
     ]
    }
   ],
   "source": [
    "# https://gazeta.ua/articles/celebrities/_oleg-vinnik-rozkriv-znachennya-svogo-prizvischa/839950\n",
    "s = '''Співак року за версією премії \"Золота жар-птиця\" Олег Винник, прикрасив обкладинку журналу \"Телегід\"\n",
    "Артист завершив роботу над двома новими альбомами, озвучив мультиплікаційного героя, презентував кліп і відправився у всеукраїнський гастрольний тур. Про свій сценічний імідж , різницю між творчістю і показухою співак розповів в відвертому інтерв'ю журналу \"Телегід\".'''\n",
    "print(s[:300]+\"...\")\n",
    "print(clf_news.predict([s]))\n",
    "print(clf_bruk.predict([s]))"
   ]
  },
  {
   "cell_type": "code",
   "execution_count": 29,
   "metadata": {},
   "outputs": [
    {
     "name": "stdout",
     "output_type": "stream",
     "text": [
      "У мене завжди поганий настрій. Роботи більше, ніж вільного часу, хвора спина і серцева недостатність. Але ніколи цього не показую і не поширюю свого настрою на інших.\n",
      "Справедливість – опора слабких. Сильний її не шукає. Знає, що справедливості немає.\n",
      "Коли слабких і сильних порівнюють, у других забир...\n",
      "['articles']\n",
      "['fiction']\n"
     ]
    }
   ],
   "source": [
    "# https://gazeta.ua/articles/opinions-journal/_tilki-gliboko-vpevnena-u-svoyij-pravoti-lyudina-mozhe-vibachatisya-pershoyu/838669\n",
    "s = '''У мене завжди поганий настрій. Роботи більше, ніж вільного часу, хвора спина і серцева недостатність. Але ніколи цього не показую і не поширюю свого настрою на інших.\n",
    "Справедливість – опора слабких. Сильний її не шукає. Знає, що справедливості немає.\n",
    "Коли слабких і сильних порівнюють, у других забирають частину свободи під виглядом справедливості. Виходить, правила для всіх одні, а люди – різні.'''\n",
    "print(s[:300]+\"...\")\n",
    "print(clf_news.predict([s]))\n",
    "print(clf_bruk.predict([s]))"
   ]
  },
  {
   "cell_type": "code",
   "execution_count": 30,
   "metadata": {},
   "outputs": [
    {
     "name": "stdout",
     "output_type": "stream",
     "text": [
      "Це не спам: інопланетяни спілкуються з нами через електронну пошту\n",
      "Уфологи заявили, що комп'ютерні віруси - теж справа рук гуманоїдів\n",
      "В Америці \"мисливці за НЛО\" повідомили, що знайшли незвичайну активність прибульців в інтернеті.\n",
      "За словами уфологів, інопланетяни можуть посилати людям повідомлення ...\n",
      "['news']\n",
      "['press']\n"
     ]
    }
   ],
   "source": [
    "# https://znaj.ua/science/ce-ne-spam-inoplanetyany-spilkuyutsya-z-namy-cherez-elektronnu-poshtu\n",
    "s = '''Це не спам: інопланетяни спілкуються з нами через електронну пошту\n",
    "Уфологи заявили, що комп'ютерні віруси - теж справа рук гуманоїдів\n",
    "В Америці \"мисливці за НЛО\" повідомили, що знайшли незвичайну активність прибульців в інтернеті.\n",
    "За словами уфологів, інопланетяни можуть посилати людям повідомлення через електронну пошту. Співробітники Гавайського університету змогли з'ясувати, що прибульці неодноразово намагалися вийти на зв'язок з людьми через соцмережі або електронну пошту.'''\n",
    "print(s[:300]+\"...\")\n",
    "print(clf_news.predict([s]))\n",
    "print(clf_bruk.predict([s]))"
   ]
  },
  {
   "cell_type": "code",
   "execution_count": null,
   "metadata": {},
   "outputs": [],
   "source": []
  }
 ],
 "metadata": {
  "kernelspec": {
   "display_name": "Python 3",
   "language": "python",
   "name": "python3"
  },
  "language_info": {
   "codemirror_mode": {
    "name": "ipython",
    "version": 3
   },
   "file_extension": ".py",
   "mimetype": "text/x-python",
   "name": "python",
   "nbconvert_exporter": "python",
   "pygments_lexer": "ipython3",
   "version": "3.6.4"
  }
 },
 "nbformat": 4,
 "nbformat_minor": 2
}
